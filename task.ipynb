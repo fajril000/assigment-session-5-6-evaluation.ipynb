# Import library yang diperlukan
import numpy as np
import matplotlib.pyplot as plt
from sklearn.datasets import load_iris #dataset iris
from sklearn.cluster import KMeans

# Memuat dataset Iris
iris = load_iris()
x = iris.data

# Menjalankan algoritma K-Means dengan jumlah cluster yang ditentukan
kmeans = KMeans(n_clusters=4) #jumlah cluster
kmeans.fit(X)
y_kmeans = kmeans.predict(x)

# Memvisualisasikan hasil clustering
centers = kmeans.cluster_centers_
plt.scatter(centers[:, 0], iris.data[:, 1], c=y_kmeans, s=50, cmap='viridis')

# Menampilkan pusat cluster (centroid)
centers = kmeans.cluster_centers_
plt.scatter(centers[:, 0], centers[:, 1], c='red', s=200, alpha=0.75)


plt.xlabel(iris.feature_names[0])
plt.ylabel(iris.feature_names[1])
plt.title('K-Means Clustering on Iris Dataset')
plt.show()
